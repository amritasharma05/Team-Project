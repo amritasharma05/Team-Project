{
 "cells": [
  {
   "cell_type": "markdown",
   "metadata": {
    "deletable": true,
    "editable": true
   },
   "source": [
    "## Data Product: Income inequality in the United States\n",
    "\n",
    "### Claim:  Income inequality in the United States has increased significantly over the years."
   ]
  },
  {
   "cell_type": "code",
   "execution_count": 44,
   "metadata": {
    "collapsed": false,
    "deletable": true,
    "editable": true
   },
   "outputs": [
    {
     "name": "stdout",
     "output_type": "stream",
     "text": [
      "Populating the interactive namespace from numpy and matplotlib\n"
     ]
    }
   ],
   "source": [
    "import pandas as pd\n",
    "import numpy as np\n",
    "import seaborn as sns\n",
    "%pylab inline\n",
    "import sklearn as sk\n",
    "from pandas import ExcelWriter\n",
    "from pandas import ExcelFile\n",
    "import datetime\n",
    "import matplotlib.pyplot as plt"
   ]
  },
  {
   "cell_type": "markdown",
   "metadata": {
    "deletable": true,
    "editable": true
   },
   "source": [
    "## Gini Index"
   ]
  },
  {
   "cell_type": "markdown",
   "metadata": {
    "deletable": true,
    "editable": true
   },
   "source": [
    "Gini Index is one of the most popular measures of Income Inequality. \n",
    "\n",
    "The Gini coefficient incorporates the detailed shares data into a single statistic, which summarizes the dispersion of income across the entire income distribution. The Gini coefficient ranges from 0, indicating perfect equality (where everyone receives an equal share), to 1, perfect inequality (where only one recipient or group of recipients receives all the income). The Gini is based on the difference between the Lorenz curve (the observed cumulative income distribution) and the notion of a perfectly equal income distribution.\n"
   ]
  },
  {
   "cell_type": "markdown",
   "metadata": {
    "deletable": true,
    "editable": true
   },
   "source": [
    "### Exploring change in Gini Index over the Years in USA"
   ]
  },
  {
   "cell_type": "markdown",
   "metadata": {
    "deletable": true,
    "editable": true
   },
   "source": [
    "The dataset is from \n",
    "https://www.statista.com/statistics/219643/gini-coefficient-for-us-individuals-families-and-households/   \n",
    "1. It has Gini computed for U.S. households from 1990 to 2016. Information is contained in two columns Unnamed:1, Unnamed: 2, but it has it in different data formats and there are columns and rows with redundant information. So we cleaned the data, before plotting it further."
   ]
  },
  {
   "cell_type": "code",
   "execution_count": 45,
   "metadata": {
    "collapsed": true,
    "deletable": true,
    "editable": true
   },
   "outputs": [],
   "source": [
    "Gini=pd.ExcelFile('Gini.xlsx') # reading the excel files"
   ]
  },
  {
   "cell_type": "code",
   "execution_count": 46,
   "metadata": {
    "collapsed": true,
    "deletable": true,
    "editable": true
   },
   "outputs": [],
   "source": [
    "Gini=pd.read_excel(Gini,'Data')"
   ]
  },
  {
   "cell_type": "code",
   "execution_count": 47,
   "metadata": {
    "collapsed": false,
    "deletable": true,
    "editable": true
   },
   "outputs": [
    {
     "data": {
      "text/html": [
       "<div>\n",
       "<style scoped>\n",
       "    .dataframe tbody tr th:only-of-type {\n",
       "        vertical-align: middle;\n",
       "    }\n",
       "\n",
       "    .dataframe tbody tr th {\n",
       "        vertical-align: top;\n",
       "    }\n",
       "\n",
       "    .dataframe thead th {\n",
       "        text-align: right;\n",
       "    }\n",
       "</style>\n",
       "<table border=\"1\" class=\"dataframe\">\n",
       "  <thead>\n",
       "    <tr style=\"text-align: right;\">\n",
       "      <th></th>\n",
       "      <th>Unnamed: 0</th>\n",
       "      <th>Unnamed: 1</th>\n",
       "      <th>Unnamed: 2</th>\n",
       "    </tr>\n",
       "  </thead>\n",
       "  <tbody>\n",
       "    <tr>\n",
       "      <th>0</th>\n",
       "      <td>NaN</td>\n",
       "      <td>U.S. household income distribution 1990-2016, ...</td>\n",
       "      <td>NaN</td>\n",
       "    </tr>\n",
       "    <tr>\n",
       "      <th>1</th>\n",
       "      <td>NaN</td>\n",
       "      <td>U.S. household income distribution from 1990 t...</td>\n",
       "      <td>NaN</td>\n",
       "    </tr>\n",
       "    <tr>\n",
       "      <th>2</th>\n",
       "      <td>NaN</td>\n",
       "      <td>NaN</td>\n",
       "      <td>Gini coefficient*</td>\n",
       "    </tr>\n",
       "    <tr>\n",
       "      <th>3</th>\n",
       "      <td>NaN</td>\n",
       "      <td>'90</td>\n",
       "      <td>0.43</td>\n",
       "    </tr>\n",
       "    <tr>\n",
       "      <th>4</th>\n",
       "      <td>NaN</td>\n",
       "      <td>'91</td>\n",
       "      <td>0.43</td>\n",
       "    </tr>\n",
       "  </tbody>\n",
       "</table>\n",
       "</div>"
      ],
      "text/plain": [
       "   Unnamed: 0                                         Unnamed: 1  \\\n",
       "0         NaN  U.S. household income distribution 1990-2016, ...   \n",
       "1         NaN  U.S. household income distribution from 1990 t...   \n",
       "2         NaN                                                NaN   \n",
       "3         NaN                                                '90   \n",
       "4         NaN                                                '91   \n",
       "\n",
       "          Unnamed: 2  \n",
       "0                NaN  \n",
       "1                NaN  \n",
       "2  Gini coefficient*  \n",
       "3               0.43  \n",
       "4               0.43  "
      ]
     },
     "execution_count": 47,
     "metadata": {},
     "output_type": "execute_result"
    }
   ],
   "source": [
    "Gini.head()"
   ]
  },
  {
   "cell_type": "markdown",
   "metadata": {
    "deletable": true,
    "editable": true
   },
   "source": [
    "The header is the third row and data starts from fourth row. The unnmaed column:0 is just NANs. Hence, removing it."
   ]
  },
  {
   "cell_type": "code",
   "execution_count": 48,
   "metadata": {
    "collapsed": true,
    "deletable": true,
    "editable": true
   },
   "outputs": [],
   "source": [
    "Gini=Gini.iloc[3:]"
   ]
  },
  {
   "cell_type": "code",
   "execution_count": 49,
   "metadata": {
    "collapsed": true,
    "deletable": true,
    "editable": true
   },
   "outputs": [],
   "source": [
    "Gini.drop('Unnamed: 0',axis=1,inplace=True)"
   ]
  },
  {
   "cell_type": "code",
   "execution_count": 50,
   "metadata": {
    "collapsed": true,
    "deletable": true,
    "editable": true
   },
   "outputs": [],
   "source": [
    "Gini.rename(columns={'Unnamed: 1':'Year','Unnamed: 2':'Gini_Index'}, inplace=True)"
   ]
  },
  {
   "cell_type": "code",
   "execution_count": 51,
   "metadata": {
    "collapsed": false,
    "deletable": true,
    "editable": true
   },
   "outputs": [
    {
     "data": {
      "text/plain": [
       "Year          object\n",
       "Gini_Index    object\n",
       "dtype: object"
      ]
     },
     "execution_count": 51,
     "metadata": {},
     "output_type": "execute_result"
    }
   ],
   "source": [
    "Gini.dtypes # character strings appear as object data types"
   ]
  },
  {
   "cell_type": "markdown",
   "metadata": {
    "deletable": true,
    "editable": true
   },
   "source": [
    " Converting Gini column to numeric "
   ]
  },
  {
   "cell_type": "code",
   "execution_count": 52,
   "metadata": {
    "collapsed": true,
    "deletable": true,
    "editable": true
   },
   "outputs": [],
   "source": [
    "Gini['Gini_Index']=pd.to_numeric(Gini['Gini_Index'])"
   ]
  },
  {
   "cell_type": "markdown",
   "metadata": {
    "deletable": true,
    "editable": true
   },
   "source": [
    "Stripping unwanted punctuations from date values and making it as proper values."
   ]
  },
  {
   "cell_type": "code",
   "execution_count": 53,
   "metadata": {
    "collapsed": false,
    "deletable": true,
    "editable": true
   },
   "outputs": [],
   "source": [
    "Gini['Year']=Gini['Year'].apply(lambda x : x.strip(\"'`\"))"
   ]
  },
  {
   "cell_type": "markdown",
   "metadata": {
    "deletable": true,
    "editable": true
   },
   "source": [
    "Converting year into date time objects"
   ]
  },
  {
   "cell_type": "code",
   "execution_count": 54,
   "metadata": {
    "collapsed": true,
    "deletable": true,
    "editable": true
   },
   "outputs": [],
   "source": [
    "Gini['Year']=Gini['Year'].apply(lambda x : int(x))"
   ]
  },
  {
   "cell_type": "code",
   "execution_count": 55,
   "metadata": {
    "collapsed": true,
    "deletable": true,
    "editable": true
   },
   "outputs": [],
   "source": [
    "Gini['Year']=Gini['Year'].apply(lambda x : (1900+x) if x/10 ==9 else (2000+x))"
   ]
  },
  {
   "cell_type": "markdown",
   "metadata": {
    "deletable": true,
    "editable": true
   },
   "source": [
    "File on which plot will be made to show gini trend across years."
   ]
  },
  {
   "cell_type": "code",
   "execution_count": 56,
   "metadata": {
    "collapsed": false,
    "deletable": true,
    "editable": true
   },
   "outputs": [],
   "source": [
    "Gini.to_csv('Gini inequality.csv')"
   ]
  },
  {
   "cell_type": "code",
   "execution_count": 57,
   "metadata": {
    "collapsed": false,
    "deletable": true,
    "editable": true
   },
   "outputs": [
    {
     "data": {
      "text/plain": [
       "<seaborn.axisgrid.FacetGrid at 0x113a55a90>"
      ]
     },
     "execution_count": 57,
     "metadata": {},
     "output_type": "execute_result"
    },
    {
     "data": {
      "image/png": "[encoded data removed]",
      "text/plain": [
       "<matplotlib.figure.Figure at 0x113ed0690>"
      ]
     },
     "metadata": {},
     "output_type": "display_data"
    }
   ],
   "source": [
    "sns.factorplot(x='Year',y='Gini_Index',data=Gini,aspect=3)"
   ]
  },
  {
   "cell_type": "markdown",
   "metadata": {},
   "source": [
    "The graph shows an increasing trend of Gini Index, though the increase is not too much in the last few years. \n",
    "We wanted to explore the various factors that contributed to this gini coefficient i.e. the overall income disparities in the united states"
   ]
  },
  {
   "cell_type": "markdown",
   "metadata": {
    "deletable": true,
    "editable": true
   },
   "source": [
    "### For Exploratory data analysis we start with following dimensions\n",
    "\n",
    "1. Earnings over years by gender\n",
    "2. Unemployment over years by race\n",
    "3. Tax rates over years\n"
   ]
  },
  {
   "cell_type": "markdown",
   "metadata": {},
   "source": [
    "We want to explore the hypothesis that each of these factors have an impact on income gaps. "
   ]
  },
  {
   "cell_type": "markdown",
   "metadata": {
    "deletable": true,
    "editable": true
   },
   "source": [
    "### 1. Earnings over years by gender"
   ]
  },
  {
   "cell_type": "markdown",
   "metadata": {},
   "source": [
    "Validity: Gender wage gaps directly contribute to income inequality, and higher gaps in labor force participation rates between men and women result in inequality of earnings between sexes, thus creating and exacerbating income inequality.\n",
    "https://www.weforum.org/agenda/2015/10/why-gender-and-income-inequality-are-linked/"
   ]
  },
  {
   "cell_type": "markdown",
   "metadata": {},
   "source": [
    "The dataset is from https://www.bls.gov/news.release/wkyeng.t01.htm"
   ]
  },
  {
   "cell_type": "markdown",
   "metadata": {},
   "source": [
    "The data given is Gender wise median weekly earnings for each quarter. We are choosing the following columns for the explanatory data analysis:\n",
    "1. Year and Quarter - Data has been summarized for each quarter in the source itself\n",
    "2. Median Weekly earnings In current dollars Men. \n",
    "3. Median Weekly earnings In current dollars Women."
   ]
  },
  {
   "cell_type": "code",
   "execution_count": 58,
   "metadata": {
    "collapsed": false,
    "deletable": true,
    "editable": true
   },
   "outputs": [],
   "source": [
    "gender=pd.ExcelFile('Gender_Pay_Quarterly.xlsx')"
   ]
  },
  {
   "cell_type": "code",
   "execution_count": 59,
   "metadata": {
    "collapsed": false,
    "deletable": true,
    "editable": true
   },
   "outputs": [],
   "source": [
    "gender=pd.read_excel(gender)"
   ]
  },
  {
   "cell_type": "code",
   "execution_count": 60,
   "metadata": {
    "collapsed": false,
    "deletable": true,
    "editable": true
   },
   "outputs": [
    {
     "data": {
      "text/html": [
       "<div>\n",
       "<style scoped>\n",
       "    .dataframe tbody tr th:only-of-type {\n",
       "        vertical-align: middle;\n",
       "    }\n",
       "\n",
       "    .dataframe tbody tr th {\n",
       "        vertical-align: top;\n",
       "    }\n",
       "\n",
       "    .dataframe thead th {\n",
       "        text-align: right;\n",
       "    }\n",
       "</style>\n",
       "<table border=\"1\" class=\"dataframe\">\n",
       "  <thead>\n",
       "    <tr style=\"text-align: right;\">\n",
       "      <th></th>\n",
       "      <th>Year and quarter</th>\n",
       "      <th>Number of workers (in thousands) Total</th>\n",
       "      <th>Number of workers (in thousands) Men</th>\n",
       "      <th>Number of workers (in thousands) Women</th>\n",
       "      <th>Median weekly earnings In current dollars Total $</th>\n",
       "      <th>Median weekly earnings In current dollars Men $</th>\n",
       "      <th>Median weekly earnings In current dollars Women $</th>\n",
       "      <th>Median weekly earnings In constant (1982-84) dollars Total $</th>\n",
       "      <th>Median weekly earnings In constant (1982-84) dollars Men $</th>\n",
       "      <th>Median weekly earnings In constant (1982-84) dollars Women $</th>\n",
       "    </tr>\n",
       "  </thead>\n",
       "  <tbody>\n",
       "    <tr>\n",
       "      <th>0</th>\n",
       "      <td>2009</td>\n",
       "      <td>NaN</td>\n",
       "      <td>NaN</td>\n",
       "      <td>NaN</td>\n",
       "      <td>NaN</td>\n",
       "      <td>NaN</td>\n",
       "      <td>NaN</td>\n",
       "      <td>NaN</td>\n",
       "      <td>NaN</td>\n",
       "      <td>NaN</td>\n",
       "    </tr>\n",
       "    <tr>\n",
       "      <th>1</th>\n",
       "      <td>2009Q1</td>\n",
       "      <td>101683.0</td>\n",
       "      <td>56302.0</td>\n",
       "      <td>45381.0</td>\n",
       "      <td>732.0</td>\n",
       "      <td>815.0</td>\n",
       "      <td>645.0</td>\n",
       "      <td>345.0</td>\n",
       "      <td>384.0</td>\n",
       "      <td>304.0</td>\n",
       "    </tr>\n",
       "    <tr>\n",
       "      <th>2</th>\n",
       "      <td>2009Q2</td>\n",
       "      <td>99996.0</td>\n",
       "      <td>55233.0</td>\n",
       "      <td>44763.0</td>\n",
       "      <td>737.0</td>\n",
       "      <td>818.0</td>\n",
       "      <td>652.0</td>\n",
       "      <td>345.0</td>\n",
       "      <td>383.0</td>\n",
       "      <td>305.0</td>\n",
       "    </tr>\n",
       "    <tr>\n",
       "      <th>3</th>\n",
       "      <td>2009Q3</td>\n",
       "      <td>99050.0</td>\n",
       "      <td>54481.0</td>\n",
       "      <td>44569.0</td>\n",
       "      <td>742.0</td>\n",
       "      <td>820.0</td>\n",
       "      <td>664.0</td>\n",
       "      <td>345.0</td>\n",
       "      <td>381.0</td>\n",
       "      <td>309.0</td>\n",
       "    </tr>\n",
       "    <tr>\n",
       "      <th>4</th>\n",
       "      <td>2009Q4</td>\n",
       "      <td>98555.0</td>\n",
       "      <td>54410.0</td>\n",
       "      <td>44145.0</td>\n",
       "      <td>747.0</td>\n",
       "      <td>823.0</td>\n",
       "      <td>666.0</td>\n",
       "      <td>344.0</td>\n",
       "      <td>379.0</td>\n",
       "      <td>307.0</td>\n",
       "    </tr>\n",
       "  </tbody>\n",
       "</table>\n",
       "</div>"
      ],
      "text/plain": [
       "  Year and quarter  Number of workers (in thousands) Total  \\\n",
       "0             2009                                     NaN   \n",
       "1           2009Q1                                101683.0   \n",
       "2           2009Q2                                 99996.0   \n",
       "3           2009Q3                                 99050.0   \n",
       "4           2009Q4                                 98555.0   \n",
       "\n",
       "   Number of workers (in thousands) Men  \\\n",
       "0                                   NaN   \n",
       "1                               56302.0   \n",
       "2                               55233.0   \n",
       "3                               54481.0   \n",
       "4                               54410.0   \n",
       "\n",
       "   Number of workers (in thousands) Women  \\\n",
       "0                                     NaN   \n",
       "1                                 45381.0   \n",
       "2                                 44763.0   \n",
       "3                                 44569.0   \n",
       "4                                 44145.0   \n",
       "\n",
       "   Median weekly earnings In current dollars Total $  \\\n",
       "0                                                NaN   \n",
       "1                                              732.0   \n",
       "2                                              737.0   \n",
       "3                                              742.0   \n",
       "4                                              747.0   \n",
       "\n",
       "   Median weekly earnings In current dollars Men $  \\\n",
       "0                                              NaN   \n",
       "1                                            815.0   \n",
       "2                                            818.0   \n",
       "3                                            820.0   \n",
       "4                                            823.0   \n",
       "\n",
       "   Median weekly earnings In current dollars Women $  \\\n",
       "0                                                NaN   \n",
       "1                                              645.0   \n",
       "2                                              652.0   \n",
       "3                                              664.0   \n",
       "4                                              666.0   \n",
       "\n",
       "   Median weekly earnings In constant (1982-84) dollars Total $  \\\n",
       "0                                                NaN              \n",
       "1                                              345.0              \n",
       "2                                              345.0              \n",
       "3                                              345.0              \n",
       "4                                              344.0              \n",
       "\n",
       "   Median weekly earnings In constant (1982-84) dollars Men $  \\\n",
       "0                                                NaN            \n",
       "1                                              384.0            \n",
       "2                                              383.0            \n",
       "3                                              381.0            \n",
       "4                                              379.0            \n",
       "\n",
       "   Median weekly earnings In constant (1982-84) dollars Women $  \n",
       "0                                                NaN             \n",
       "1                                              304.0             \n",
       "2                                              305.0             \n",
       "3                                              309.0             \n",
       "4                                              307.0             "
      ]
     },
     "execution_count": 60,
     "metadata": {},
     "output_type": "execute_result"
    }
   ],
   "source": [
    "gender.head()"
   ]
  },
  {
   "cell_type": "code",
   "execution_count": 61,
   "metadata": {
    "collapsed": false,
    "deletable": true,
    "editable": true
   },
   "outputs": [
    {
     "data": {
      "text/plain": [
       "Index([u'Year and quarter', u'Number of workers (in thousands) Total',\n",
       "       u'Number of workers (in thousands) Men',\n",
       "       u'Number of workers (in thousands) Women',\n",
       "       u'Median weekly earnings In current dollars Total $',\n",
       "       u'Median weekly earnings In current dollars Men $',\n",
       "       u'Median weekly earnings In current dollars Women $',\n",
       "       u'Median weekly earnings In constant (1982-84) dollars Total $',\n",
       "       u'Median weekly earnings In constant (1982-84) dollars Men $',\n",
       "       u'Median weekly earnings In constant (1982-84) dollars Women $'],\n",
       "      dtype='object')"
      ]
     },
     "execution_count": 61,
     "metadata": {},
     "output_type": "execute_result"
    }
   ],
   "source": [
    "gender.columns"
   ]
  },
  {
   "cell_type": "markdown",
   "metadata": {
    "deletable": true,
    "editable": true
   },
   "source": [
    "Dropping the NA's from the data frame."
   ]
  },
  {
   "cell_type": "code",
   "execution_count": 62,
   "metadata": {
    "collapsed": false,
    "deletable": true,
    "editable": true
   },
   "outputs": [],
   "source": [
    "gender = gender.dropna()"
   ]
  },
  {
   "cell_type": "markdown",
   "metadata": {
    "deletable": true,
    "editable": true
   },
   "source": [
    "Creating a new Year column to group men and women median weekly earnings in dollars"
   ]
  },
  {
   "cell_type": "code",
   "execution_count": 63,
   "metadata": {
    "collapsed": true,
    "deletable": true,
    "editable": true
   },
   "outputs": [],
   "source": [
    "gender['Year']=gender['Year and quarter'].apply(lambda x: x[0:4])"
   ]
  },
  {
   "cell_type": "markdown",
   "metadata": {},
   "source": [
    "Grouped by year"
   ]
  },
  {
   "cell_type": "code",
   "execution_count": 64,
   "metadata": {
    "collapsed": false,
    "deletable": true,
    "editable": true
   },
   "outputs": [],
   "source": [
    "groupedbyYear = gender.groupby('Year')[['Median weekly earnings In current dollars Men $',\\\n",
    "                                        'Median weekly earnings In current dollars Women $']].mean().reset_index()"
   ]
  },
  {
   "cell_type": "markdown",
   "metadata": {},
   "source": [
    "Creating a new dataframe for men earnings seperately"
   ]
  },
  {
   "cell_type": "code",
   "execution_count": 65,
   "metadata": {
    "collapsed": false,
    "deletable": true,
    "editable": true
   },
   "outputs": [],
   "source": [
    "men=groupedbyYear.copy()"
   ]
  },
  {
   "cell_type": "code",
   "execution_count": 66,
   "metadata": {
    "collapsed": true,
    "deletable": true,
    "editable": true
   },
   "outputs": [],
   "source": [
    "men['category'] = 'male'"
   ]
  },
  {
   "cell_type": "code",
   "execution_count": 67,
   "metadata": {
    "collapsed": true,
    "deletable": true,
    "editable": true
   },
   "outputs": [],
   "source": [
    "men.rename(columns = {'Median weekly earnings In current dollars Men $':'Earnings_Per_thousand'}, inplace = True)"
   ]
  },
  {
   "cell_type": "code",
   "execution_count": 68,
   "metadata": {
    "collapsed": false,
    "deletable": true,
    "editable": true
   },
   "outputs": [
    {
     "data": {
      "text/html": [
       "<div>\n",
       "<style scoped>\n",
       "    .dataframe tbody tr th:only-of-type {\n",
       "        vertical-align: middle;\n",
       "    }\n",
       "\n",
       "    .dataframe tbody tr th {\n",
       "        vertical-align: top;\n",
       "    }\n",
       "\n",
       "    .dataframe thead th {\n",
       "        text-align: right;\n",
       "    }\n",
       "</style>\n",
       "<table border=\"1\" class=\"dataframe\">\n",
       "  <thead>\n",
       "    <tr style=\"text-align: right;\">\n",
       "      <th></th>\n",
       "      <th>Year</th>\n",
       "      <th>Earnings_Per_thousand</th>\n",
       "      <th>Median weekly earnings In current dollars Women $</th>\n",
       "      <th>category</th>\n",
       "    </tr>\n",
       "  </thead>\n",
       "  <tbody>\n",
       "    <tr>\n",
       "      <th>0</th>\n",
       "      <td>2009</td>\n",
       "      <td>819.00</td>\n",
       "      <td>656.75</td>\n",
       "      <td>male</td>\n",
       "    </tr>\n",
       "    <tr>\n",
       "      <th>1</th>\n",
       "      <td>2010</td>\n",
       "      <td>824.25</td>\n",
       "      <td>669.75</td>\n",
       "      <td>male</td>\n",
       "    </tr>\n",
       "    <tr>\n",
       "      <th>2</th>\n",
       "      <td>2011</td>\n",
       "      <td>831.25</td>\n",
       "      <td>683.25</td>\n",
       "      <td>male</td>\n",
       "    </tr>\n",
       "    <tr>\n",
       "      <th>3</th>\n",
       "      <td>2012</td>\n",
       "      <td>853.75</td>\n",
       "      <td>690.75</td>\n",
       "      <td>male</td>\n",
       "    </tr>\n",
       "    <tr>\n",
       "      <th>4</th>\n",
       "      <td>2013</td>\n",
       "      <td>860.75</td>\n",
       "      <td>705.50</td>\n",
       "      <td>male</td>\n",
       "    </tr>\n",
       "  </tbody>\n",
       "</table>\n",
       "</div>"
      ],
      "text/plain": [
       "   Year  Earnings_Per_thousand  \\\n",
       "0  2009                 819.00   \n",
       "1  2010                 824.25   \n",
       "2  2011                 831.25   \n",
       "3  2012                 853.75   \n",
       "4  2013                 860.75   \n",
       "\n",
       "   Median weekly earnings In current dollars Women $ category  \n",
       "0                                             656.75     male  \n",
       "1                                             669.75     male  \n",
       "2                                             683.25     male  \n",
       "3                                             690.75     male  \n",
       "4                                             705.50     male  "
      ]
     },
     "execution_count": 68,
     "metadata": {},
     "output_type": "execute_result"
    }
   ],
   "source": [
    "men.head()"
   ]
  },
  {
   "cell_type": "code",
   "execution_count": 69,
   "metadata": {
    "collapsed": true,
    "deletable": true,
    "editable": true
   },
   "outputs": [],
   "source": [
    "men.drop(['Median weekly earnings In current dollars Women $'],axis=1,inplace=True)"
   ]
  },
  {
   "cell_type": "markdown",
   "metadata": {},
   "source": [
    "Creating a new dataframe for women earnings seperately"
   ]
  },
  {
   "cell_type": "code",
   "execution_count": 70,
   "metadata": {
    "collapsed": false,
    "deletable": true,
    "editable": true
   },
   "outputs": [],
   "source": [
    "women=groupedbyYear.copy()"
   ]
  },
  {
   "cell_type": "code",
   "execution_count": 71,
   "metadata": {
    "collapsed": true,
    "deletable": true,
    "editable": true
   },
   "outputs": [],
   "source": [
    "women['category'] = 'female'"
   ]
  },
  {
   "cell_type": "code",
   "execution_count": 72,
   "metadata": {
    "collapsed": true,
    "deletable": true,
    "editable": true
   },
   "outputs": [],
   "source": [
    "women.rename(columns = {'Median weekly earnings In current dollars Women $':'Earnings_Per_thousand'}, inplace = True)"
   ]
  },
  {
   "cell_type": "code",
   "execution_count": 73,
   "metadata": {
    "collapsed": false,
    "deletable": true,
    "editable": true
   },
   "outputs": [],
   "source": [
    "women.drop(['Median weekly earnings In current dollars Men $'],axis=1,inplace=True)"
   ]
  },
  {
   "cell_type": "code",
   "execution_count": 74,
   "metadata": {
    "collapsed": false,
    "deletable": true,
    "editable": true
   },
   "outputs": [
    {
     "data": {
      "text/html": [
       "<div>\n",
       "<style scoped>\n",
       "    .dataframe tbody tr th:only-of-type {\n",
       "        vertical-align: middle;\n",
       "    }\n",
       "\n",
       "    .dataframe tbody tr th {\n",
       "        vertical-align: top;\n",
       "    }\n",
       "\n",
       "    .dataframe thead th {\n",
       "        text-align: right;\n",
       "    }\n",
       "</style>\n",
       "<table border=\"1\" class=\"dataframe\">\n",
       "  <thead>\n",
       "    <tr style=\"text-align: right;\">\n",
       "      <th></th>\n",
       "      <th>Year</th>\n",
       "      <th>Earnings_Per_thousand</th>\n",
       "      <th>category</th>\n",
       "    </tr>\n",
       "  </thead>\n",
       "  <tbody>\n",
       "    <tr>\n",
       "      <th>0</th>\n",
       "      <td>2009</td>\n",
       "      <td>656.75</td>\n",
       "      <td>female</td>\n",
       "    </tr>\n",
       "    <tr>\n",
       "      <th>1</th>\n",
       "      <td>2010</td>\n",
       "      <td>669.75</td>\n",
       "      <td>female</td>\n",
       "    </tr>\n",
       "    <tr>\n",
       "      <th>2</th>\n",
       "      <td>2011</td>\n",
       "      <td>683.25</td>\n",
       "      <td>female</td>\n",
       "    </tr>\n",
       "    <tr>\n",
       "      <th>3</th>\n",
       "      <td>2012</td>\n",
       "      <td>690.75</td>\n",
       "      <td>female</td>\n",
       "    </tr>\n",
       "    <tr>\n",
       "      <th>4</th>\n",
       "      <td>2013</td>\n",
       "      <td>705.50</td>\n",
       "      <td>female</td>\n",
       "    </tr>\n",
       "  </tbody>\n",
       "</table>\n",
       "</div>"
      ],
      "text/plain": [
       "   Year  Earnings_Per_thousand category\n",
       "0  2009                 656.75   female\n",
       "1  2010                 669.75   female\n",
       "2  2011                 683.25   female\n",
       "3  2012                 690.75   female\n",
       "4  2013                 705.50   female"
      ]
     },
     "execution_count": 74,
     "metadata": {},
     "output_type": "execute_result"
    }
   ],
   "source": [
    "women.head()"
   ]
  },
  {
   "cell_type": "markdown",
   "metadata": {},
   "source": [
    "Appending male and female dataframes to plot"
   ]
  },
  {
   "cell_type": "code",
   "execution_count": 75,
   "metadata": {
    "collapsed": true,
    "deletable": true,
    "editable": true
   },
   "outputs": [],
   "source": [
    "final1 = men.append(women)"
   ]
  },
  {
   "cell_type": "code",
   "execution_count": 76,
   "metadata": {
    "collapsed": false,
    "deletable": true,
    "editable": true,
    "scrolled": true
   },
   "outputs": [
    {
     "data": {
      "text/plain": [
       "<seaborn.axisgrid.FacetGrid at 0x113316910>"
      ]
     },
     "execution_count": 76,
     "metadata": {},
     "output_type": "execute_result"
    },
    {
     "data": {
      "image/png": "[encoded data removed]",
      "text/plain": [
       "<matplotlib.figure.Figure at 0x1137a6150>"
      ]
     },
     "metadata": {},
     "output_type": "display_data"
    }
   ],
   "source": [
    "sns.factorplot(x = 'Year', y = 'Earnings_Per_thousand', data = final1, hue = 'category', aspect = 3)"
   ]
  },
  {
   "cell_type": "markdown",
   "metadata": {
    "deletable": true,
    "editable": true
   },
   "source": [
    "The graph shows that the gap between men and women's median salary has not decreased over the years. Ideally, the gap has widened a bit. This is depicted in the next plot."
   ]
  },
  {
   "cell_type": "code",
   "execution_count": 77,
   "metadata": {
    "collapsed": false,
    "deletable": true,
    "editable": true
   },
   "outputs": [],
   "source": [
    "groupedbyYear['Men - Women median weekly earnings']=groupedbyYear['Median weekly earnings In current dollars Men $']-groupedbyYear['Median weekly earnings In current dollars Women $']"
   ]
  },
  {
   "cell_type": "code",
   "execution_count": 78,
   "metadata": {
    "collapsed": false,
    "deletable": true,
    "editable": true
   },
   "outputs": [
    {
     "data": {
      "text/html": [
       "<div>\n",
       "<style scoped>\n",
       "    .dataframe tbody tr th:only-of-type {\n",
       "        vertical-align: middle;\n",
       "    }\n",
       "\n",
       "    .dataframe tbody tr th {\n",
       "        vertical-align: top;\n",
       "    }\n",
       "\n",
       "    .dataframe thead th {\n",
       "        text-align: right;\n",
       "    }\n",
       "</style>\n",
       "<table border=\"1\" class=\"dataframe\">\n",
       "  <thead>\n",
       "    <tr style=\"text-align: right;\">\n",
       "      <th></th>\n",
       "      <th>Year</th>\n",
       "      <th>Median weekly earnings In current dollars Men $</th>\n",
       "      <th>Median weekly earnings In current dollars Women $</th>\n",
       "      <th>Men - Women median weekly earnings</th>\n",
       "    </tr>\n",
       "  </thead>\n",
       "  <tbody>\n",
       "    <tr>\n",
       "      <th>5</th>\n",
       "      <td>2014</td>\n",
       "      <td>870.50</td>\n",
       "      <td>719.00</td>\n",
       "      <td>151.50</td>\n",
       "    </tr>\n",
       "    <tr>\n",
       "      <th>6</th>\n",
       "      <td>2015</td>\n",
       "      <td>894.00</td>\n",
       "      <td>726.75</td>\n",
       "      <td>167.25</td>\n",
       "    </tr>\n",
       "    <tr>\n",
       "      <th>7</th>\n",
       "      <td>2016</td>\n",
       "      <td>914.75</td>\n",
       "      <td>749.25</td>\n",
       "      <td>165.50</td>\n",
       "    </tr>\n",
       "    <tr>\n",
       "      <th>8</th>\n",
       "      <td>2017</td>\n",
       "      <td>941.25</td>\n",
       "      <td>770.50</td>\n",
       "      <td>170.75</td>\n",
       "    </tr>\n",
       "    <tr>\n",
       "      <th>9</th>\n",
       "      <td>2018</td>\n",
       "      <td>955.00</td>\n",
       "      <td>777.00</td>\n",
       "      <td>178.00</td>\n",
       "    </tr>\n",
       "  </tbody>\n",
       "</table>\n",
       "</div>"
      ],
      "text/plain": [
       "   Year  Median weekly earnings In current dollars Men $  \\\n",
       "5  2014                                           870.50   \n",
       "6  2015                                           894.00   \n",
       "7  2016                                           914.75   \n",
       "8  2017                                           941.25   \n",
       "9  2018                                           955.00   \n",
       "\n",
       "   Median weekly earnings In current dollars Women $  \\\n",
       "5                                             719.00   \n",
       "6                                             726.75   \n",
       "7                                             749.25   \n",
       "8                                             770.50   \n",
       "9                                             777.00   \n",
       "\n",
       "   Men - Women median weekly earnings  \n",
       "5                              151.50  \n",
       "6                              167.25  \n",
       "7                              165.50  \n",
       "8                              170.75  \n",
       "9                              178.00  "
      ]
     },
     "execution_count": 78,
     "metadata": {},
     "output_type": "execute_result"
    }
   ],
   "source": [
    "groupedbyYear.tail()"
   ]
  },
  {
   "cell_type": "code",
   "execution_count": 79,
   "metadata": {
    "collapsed": false,
    "deletable": true,
    "editable": true
   },
   "outputs": [
    {
     "data": {
      "text/plain": [
       "<seaborn.axisgrid.FacetGrid at 0x113fe2250>"
      ]
     },
     "execution_count": 79,
     "metadata": {},
     "output_type": "execute_result"
    },
    {
     "data": {
      "image/png": "[encoded data removed]",
      "text/plain": [
       "<matplotlib.figure.Figure at 0x113a8d710>"
      ]
     },
     "metadata": {},
     "output_type": "display_data"
    }
   ],
   "source": [
    "g=sns.factorplot(x='Year',y='Men - Women median weekly earnings',data=groupedbyYear,aspect=3)\n",
    "g.set(ylim=(130, 190))"
   ]
  },
  {
   "cell_type": "markdown",
   "metadata": {},
   "source": [
    "The above plot shows a clear gender pay disparity(The difference between the male and female median income) which has increased over the number of years. Women's pay has increased although it is still considerably lower as compared to men. This indicates the income disparity still exists which contributes the gini index. "
   ]
  },
  {
   "cell_type": "markdown",
   "metadata": {
    "collapsed": false,
    "deletable": true,
    "editable": true
   },
   "source": [
    "### 2. Correlation of Gini and Unemployment Rate, and further analysis by Race"
   ]
  },
  {
   "cell_type": "markdown",
   "metadata": {
    "deletable": true,
    "editable": true
   },
   "source": [
    "Unemployment and inequality are closely related to each other. When considered from a larger point of view, unemployment is the reason and inequality is the outcome.\n",
    "http://www.economywatch.com/unemployment/in-equality.html"
   ]
  },
  {
   "cell_type": "markdown",
   "metadata": {
    "deletable": true,
    "editable": true
   },
   "source": [
    "The dataset for unemployment rate is\n",
    "https://www.bls.gov/charts/state-employment-and-unemployment/state-unemployment-rates-map.htm#"
   ]
  },
  {
   "cell_type": "markdown",
   "metadata": {
    "deletable": true,
    "editable": true
   },
   "source": [
    "Columns in the dataset:\n",
    "1. Month from 1998 to 2008\n",
    "2. Total Employment Rate\n",
    "3. Men(20 years and over) Employment Rate\n",
    "4. Women(20 years and over) Employment Rate\n",
    "5. White Employment Rate\n",
    "6. Black or African American Employment Rate\n",
    "7. Asian Employment Rate\t\n",
    "8. Hispanic or Latino Employment Rate"
   ]
  },
  {
   "cell_type": "markdown",
   "metadata": {
    "deletable": true,
    "editable": true
   },
   "source": [
    "Here we are focussing on employment discrimination based on race in addition to total employment rate. Hence dropping men and women unemployment rate."
   ]
  },
  {
   "cell_type": "code",
   "execution_count": 80,
   "metadata": {
    "collapsed": true,
    "deletable": true,
    "editable": true
   },
   "outputs": [],
   "source": [
    "Unemp=pd.ExcelFile('Umemp.xlsx')"
   ]
  },
  {
   "cell_type": "code",
   "execution_count": 81,
   "metadata": {
    "collapsed": true,
    "deletable": true,
    "editable": true
   },
   "outputs": [],
   "source": [
    "Unemp_race=pd.read_excel(Unemp,'Sheet3')"
   ]
  },
  {
   "cell_type": "code",
   "execution_count": 82,
   "metadata": {
    "collapsed": false,
    "deletable": true,
    "editable": true
   },
   "outputs": [
    {
     "data": {
      "text/html": [
       "<div>\n",
       "<style scoped>\n",
       "    .dataframe tbody tr th:only-of-type {\n",
       "        vertical-align: middle;\n",
       "    }\n",
       "\n",
       "    .dataframe tbody tr th {\n",
       "        vertical-align: top;\n",
       "    }\n",
       "\n",
       "    .dataframe thead th {\n",
       "        text-align: right;\n",
       "    }\n",
       "</style>\n",
       "<table border=\"1\" class=\"dataframe\">\n",
       "  <thead>\n",
       "    <tr style=\"text-align: right;\">\n",
       "      <th></th>\n",
       "      <th>Month</th>\n",
       "      <th>Total</th>\n",
       "      <th>Men, 20 years and over</th>\n",
       "      <th>Women, 20 years and over</th>\n",
       "      <th>16 to 19 years old</th>\n",
       "      <th>White</th>\n",
       "      <th>Black or African American</th>\n",
       "      <th>Asian</th>\n",
       "      <th>Hispanic or Latino</th>\n",
       "    </tr>\n",
       "  </thead>\n",
       "  <tbody>\n",
       "    <tr>\n",
       "      <th>0</th>\n",
       "      <td>1998-04-01 00:00:00</td>\n",
       "      <td>4.3</td>\n",
       "      <td>3.5</td>\n",
       "      <td>4.0</td>\n",
       "      <td>13.5</td>\n",
       "      <td>3.7</td>\n",
       "      <td>9.1</td>\n",
       "      <td>NaN</td>\n",
       "      <td>6.7</td>\n",
       "    </tr>\n",
       "    <tr>\n",
       "      <th>1</th>\n",
       "      <td>1998-05-01 00:00:00</td>\n",
       "      <td>4.4</td>\n",
       "      <td>3.6</td>\n",
       "      <td>3.9</td>\n",
       "      <td>14.8</td>\n",
       "      <td>3.8</td>\n",
       "      <td>8.9</td>\n",
       "      <td>NaN</td>\n",
       "      <td>6.9</td>\n",
       "    </tr>\n",
       "    <tr>\n",
       "      <th>2</th>\n",
       "      <td>1998-06-01 00:00:00</td>\n",
       "      <td>4.5</td>\n",
       "      <td>3.7</td>\n",
       "      <td>4.0</td>\n",
       "      <td>14.9</td>\n",
       "      <td>3.9</td>\n",
       "      <td>8.8</td>\n",
       "      <td>NaN</td>\n",
       "      <td>7.4</td>\n",
       "    </tr>\n",
       "    <tr>\n",
       "      <th>3</th>\n",
       "      <td>1998-07-01 00:00:00</td>\n",
       "      <td>4.5</td>\n",
       "      <td>3.9</td>\n",
       "      <td>3.9</td>\n",
       "      <td>14.6</td>\n",
       "      <td>3.8</td>\n",
       "      <td>9.5</td>\n",
       "      <td>NaN</td>\n",
       "      <td>7.3</td>\n",
       "    </tr>\n",
       "    <tr>\n",
       "      <th>4</th>\n",
       "      <td>1998-08-01 00:00:00</td>\n",
       "      <td>4.5</td>\n",
       "      <td>3.7</td>\n",
       "      <td>4.0</td>\n",
       "      <td>14.7</td>\n",
       "      <td>3.9</td>\n",
       "      <td>8.8</td>\n",
       "      <td>NaN</td>\n",
       "      <td>7.4</td>\n",
       "    </tr>\n",
       "  </tbody>\n",
       "</table>\n",
       "</div>"
      ],
      "text/plain": [
       "                 Month  Total  Men, 20 years and over  \\\n",
       "0  1998-04-01 00:00:00    4.3                     3.5   \n",
       "1  1998-05-01 00:00:00    4.4                     3.6   \n",
       "2  1998-06-01 00:00:00    4.5                     3.7   \n",
       "3  1998-07-01 00:00:00    4.5                     3.9   \n",
       "4  1998-08-01 00:00:00    4.5                     3.7   \n",
       "\n",
       "   Women, 20 years and over  16 to 19 years old  White  \\\n",
       "0                       4.0                13.5    3.7   \n",
       "1                       3.9                14.8    3.8   \n",
       "2                       4.0                14.9    3.9   \n",
       "3                       3.9                14.6    3.8   \n",
       "4                       4.0                14.7    3.9   \n",
       "\n",
       "   Black or African American  Asian  Hispanic or Latino  \n",
       "0                        9.1    NaN                 6.7  \n",
       "1                        8.9    NaN                 6.9  \n",
       "2                        8.8    NaN                 7.4  \n",
       "3                        9.5    NaN                 7.3  \n",
       "4                        8.8    NaN                 7.4  "
      ]
     },
     "execution_count": 82,
     "metadata": {},
     "output_type": "execute_result"
    }
   ],
   "source": [
    "Unemp_race.head()"
   ]
  },
  {
   "cell_type": "code",
   "execution_count": 83,
   "metadata": {
    "collapsed": false,
    "deletable": true,
    "editable": true
   },
   "outputs": [
    {
     "data": {
      "text/plain": [
       "dtype('float64')"
      ]
     },
     "execution_count": 83,
     "metadata": {},
     "output_type": "execute_result"
    }
   ],
   "source": [
    "dtype(Unemp_race.iloc[0,6])"
   ]
  },
  {
   "cell_type": "markdown",
   "metadata": {},
   "source": [
    "Converting string to date time object."
   ]
  },
  {
   "cell_type": "code",
   "execution_count": 84,
   "metadata": {
    "collapsed": true,
    "deletable": true,
    "editable": true
   },
   "outputs": [],
   "source": [
    "Unemp_race['Date']=pd.to_datetime(Unemp_race['Month'],errors='coerce')"
   ]
  },
  {
   "cell_type": "code",
   "execution_count": 85,
   "metadata": {
    "collapsed": false,
    "deletable": true,
    "editable": true
   },
   "outputs": [
    {
     "data": {
      "text/html": [
       "<div>\n",
       "<style scoped>\n",
       "    .dataframe tbody tr th:only-of-type {\n",
       "        vertical-align: middle;\n",
       "    }\n",
       "\n",
       "    .dataframe tbody tr th {\n",
       "        vertical-align: top;\n",
       "    }\n",
       "\n",
       "    .dataframe thead th {\n",
       "        text-align: right;\n",
       "    }\n",
       "</style>\n",
       "<table border=\"1\" class=\"dataframe\">\n",
       "  <thead>\n",
       "    <tr style=\"text-align: right;\">\n",
       "      <th></th>\n",
       "      <th>Month</th>\n",
       "      <th>Total</th>\n",
       "      <th>Men, 20 years and over</th>\n",
       "      <th>Women, 20 years and over</th>\n",
       "      <th>16 to 19 years old</th>\n",
       "      <th>White</th>\n",
       "      <th>Black or African American</th>\n",
       "      <th>Asian</th>\n",
       "      <th>Hispanic or Latino</th>\n",
       "      <th>Date</th>\n",
       "    </tr>\n",
       "  </thead>\n",
       "  <tbody>\n",
       "    <tr>\n",
       "      <th>0</th>\n",
       "      <td>1998-04-01 00:00:00</td>\n",
       "      <td>4.3</td>\n",
       "      <td>3.5</td>\n",
       "      <td>4.0</td>\n",
       "      <td>13.5</td>\n",
       "      <td>3.7</td>\n",
       "      <td>9.1</td>\n",
       "      <td>NaN</td>\n",
       "      <td>6.7</td>\n",
       "      <td>1998-04-01</td>\n",
       "    </tr>\n",
       "    <tr>\n",
       "      <th>1</th>\n",
       "      <td>1998-05-01 00:00:00</td>\n",
       "      <td>4.4</td>\n",
       "      <td>3.6</td>\n",
       "      <td>3.9</td>\n",
       "      <td>14.8</td>\n",
       "      <td>3.8</td>\n",
       "      <td>8.9</td>\n",
       "      <td>NaN</td>\n",
       "      <td>6.9</td>\n",
       "      <td>1998-05-01</td>\n",
       "    </tr>\n",
       "    <tr>\n",
       "      <th>2</th>\n",
       "      <td>1998-06-01 00:00:00</td>\n",
       "      <td>4.5</td>\n",
       "      <td>3.7</td>\n",
       "      <td>4.0</td>\n",
       "      <td>14.9</td>\n",
       "      <td>3.9</td>\n",
       "      <td>8.8</td>\n",
       "      <td>NaN</td>\n",
       "      <td>7.4</td>\n",
       "      <td>1998-06-01</td>\n",
       "    </tr>\n",
       "    <tr>\n",
       "      <th>3</th>\n",
       "      <td>1998-07-01 00:00:00</td>\n",
       "      <td>4.5</td>\n",
       "      <td>3.9</td>\n",
       "      <td>3.9</td>\n",
       "      <td>14.6</td>\n",
       "      <td>3.8</td>\n",
       "      <td>9.5</td>\n",
       "      <td>NaN</td>\n",
       "      <td>7.3</td>\n",
       "      <td>1998-07-01</td>\n",
       "    </tr>\n",
       "    <tr>\n",
       "      <th>4</th>\n",
       "      <td>1998-08-01 00:00:00</td>\n",
       "      <td>4.5</td>\n",
       "      <td>3.7</td>\n",
       "      <td>4.0</td>\n",
       "      <td>14.7</td>\n",
       "      <td>3.9</td>\n",
       "      <td>8.8</td>\n",
       "      <td>NaN</td>\n",
       "      <td>7.4</td>\n",
       "      <td>1998-08-01</td>\n",
       "    </tr>\n",
       "  </tbody>\n",
       "</table>\n",
       "</div>"
      ],
      "text/plain": [
       "                 Month  Total  Men, 20 years and over  \\\n",
       "0  1998-04-01 00:00:00    4.3                     3.5   \n",
       "1  1998-05-01 00:00:00    4.4                     3.6   \n",
       "2  1998-06-01 00:00:00    4.5                     3.7   \n",
       "3  1998-07-01 00:00:00    4.5                     3.9   \n",
       "4  1998-08-01 00:00:00    4.5                     3.7   \n",
       "\n",
       "   Women, 20 years and over  16 to 19 years old  White  \\\n",
       "0                       4.0                13.5    3.7   \n",
       "1                       3.9                14.8    3.8   \n",
       "2                       4.0                14.9    3.9   \n",
       "3                       3.9                14.6    3.8   \n",
       "4                       4.0                14.7    3.9   \n",
       "\n",
       "   Black or African American  Asian  Hispanic or Latino       Date  \n",
       "0                        9.1    NaN                 6.7 1998-04-01  \n",
       "1                        8.9    NaN                 6.9 1998-05-01  \n",
       "2                        8.8    NaN                 7.4 1998-06-01  \n",
       "3                        9.5    NaN                 7.3 1998-07-01  \n",
       "4                        8.8    NaN                 7.4 1998-08-01  "
      ]
     },
     "execution_count": 85,
     "metadata": {},
     "output_type": "execute_result"
    }
   ],
   "source": [
    "Unemp_race.head()"
   ]
  },
  {
   "cell_type": "code",
   "execution_count": 86,
   "metadata": {
    "collapsed": true,
    "deletable": true,
    "editable": true
   },
   "outputs": [],
   "source": [
    "df=Unemp_race.copy()"
   ]
  },
  {
   "cell_type": "markdown",
   "metadata": {},
   "source": [
    "Dropping the men and women unemployment rates because it is a known fact that rates will always be different."
   ]
  },
  {
   "cell_type": "code",
   "execution_count": 87,
   "metadata": {
    "collapsed": true,
    "deletable": true,
    "editable": true
   },
   "outputs": [],
   "source": [
    "df.drop(['Men, 20 years and over','Women, 20 years and over','16 to 19 years old','Month'],axis=1,inplace=True)"
   ]
  },
  {
   "cell_type": "code",
   "execution_count": 88,
   "metadata": {
    "collapsed": true,
    "deletable": true,
    "editable": true
   },
   "outputs": [],
   "source": [
    "df.dropna(axis=0,inplace=True)"
   ]
  },
  {
   "cell_type": "markdown",
   "metadata": {},
   "source": [
    "To group by year, picking year from the date column"
   ]
  },
  {
   "cell_type": "code",
   "execution_count": 89,
   "metadata": {
    "collapsed": true,
    "deletable": true,
    "editable": true
   },
   "outputs": [],
   "source": [
    "df['Year']=df['Date'].apply(lambda x:int(x.year))"
   ]
  },
  {
   "cell_type": "code",
   "execution_count": 90,
   "metadata": {
    "collapsed": true,
    "deletable": true,
    "editable": true
   },
   "outputs": [],
   "source": [
    "dfW=df.copy()"
   ]
  },
  {
   "cell_type": "markdown",
   "metadata": {},
   "source": [
    "Making new dataframes for each racial category and binding it together."
   ]
  },
  {
   "cell_type": "code",
   "execution_count": 91,
   "metadata": {
    "collapsed": true,
    "deletable": true,
    "editable": true
   },
   "outputs": [],
   "source": [
    "dfW['Race']='White'"
   ]
  },
  {
   "cell_type": "code",
   "execution_count": 92,
   "metadata": {
    "collapsed": true,
    "deletable": true,
    "editable": true
   },
   "outputs": [],
   "source": [
    "dfW.drop(['Black or African American','Hispanic or Latino','Asian'],axis=1,inplace=True)"
   ]
  },
  {
   "cell_type": "code",
   "execution_count": 93,
   "metadata": {
    "collapsed": true,
    "deletable": true,
    "editable": true
   },
   "outputs": [],
   "source": [
    "dfW.rename(columns={'White':'UnemploymentRate'},inplace=True)"
   ]
  },
  {
   "cell_type": "code",
   "execution_count": 94,
   "metadata": {
    "collapsed": true,
    "deletable": true,
    "editable": true
   },
   "outputs": [],
   "source": [
    "dfB=df.copy()"
   ]
  },
  {
   "cell_type": "code",
   "execution_count": 95,
   "metadata": {
    "collapsed": true,
    "deletable": true,
    "editable": true
   },
   "outputs": [],
   "source": [
    "dfB['Race']='BlackorAfricanAmerican'"
   ]
  },
  {
   "cell_type": "code",
   "execution_count": 96,
   "metadata": {
    "collapsed": true,
    "deletable": true,
    "editable": true
   },
   "outputs": [],
   "source": [
    "dfB.drop(['Hispanic or Latino','Asian','White'],axis=1,inplace=True)"
   ]
  },
  {
   "cell_type": "code",
   "execution_count": 97,
   "metadata": {
    "collapsed": true,
    "deletable": true,
    "editable": true
   },
   "outputs": [],
   "source": [
    "dfB.rename(columns={'Black or African American':'UnemploymentRate'},inplace=True)"
   ]
  },
  {
   "cell_type": "code",
   "execution_count": 98,
   "metadata": {
    "collapsed": true,
    "deletable": true,
    "editable": true
   },
   "outputs": [],
   "source": [
    "dfA=df.copy()"
   ]
  },
  {
   "cell_type": "code",
   "execution_count": 99,
   "metadata": {
    "collapsed": true,
    "deletable": true,
    "editable": true
   },
   "outputs": [],
   "source": [
    "dfA['Race']='Asian'"
   ]
  },
  {
   "cell_type": "code",
   "execution_count": 100,
   "metadata": {
    "collapsed": true,
    "deletable": true,
    "editable": true
   },
   "outputs": [],
   "source": [
    "dfA.drop(['Black or African American','Hispanic or Latino','White'],axis=1,inplace=True)"
   ]
  },
  {
   "cell_type": "code",
   "execution_count": 101,
   "metadata": {
    "collapsed": true,
    "deletable": true,
    "editable": true
   },
   "outputs": [],
   "source": [
    "dfA.rename(columns={'Asian':'UnemploymentRate'},inplace=True)"
   ]
  },
  {
   "cell_type": "code",
   "execution_count": 102,
   "metadata": {
    "collapsed": true,
    "deletable": true,
    "editable": true
   },
   "outputs": [],
   "source": [
    "dfH=df.copy()"
   ]
  },
  {
   "cell_type": "code",
   "execution_count": 103,
   "metadata": {
    "collapsed": true,
    "deletable": true,
    "editable": true
   },
   "outputs": [],
   "source": [
    "dfH['Race']='Hispanic'"
   ]
  },
  {
   "cell_type": "code",
   "execution_count": 104,
   "metadata": {
    "collapsed": true,
    "deletable": true,
    "editable": true
   },
   "outputs": [],
   "source": [
    "dfH.drop(['Black or African American','Asian','White'],axis=1,inplace=True)"
   ]
  },
  {
   "cell_type": "code",
   "execution_count": 105,
   "metadata": {
    "collapsed": true,
    "deletable": true,
    "editable": true
   },
   "outputs": [],
   "source": [
    "dfH.rename(columns={'Hispanic or Latino':'UnemploymentRate'},inplace=True)"
   ]
  },
  {
   "cell_type": "code",
   "execution_count": 106,
   "metadata": {
    "collapsed": true,
    "deletable": true,
    "editable": true
   },
   "outputs": [],
   "source": [
    "dftotal=dfW.append([dfH,dfA,dfB])"
   ]
  },
  {
   "cell_type": "code",
   "execution_count": 107,
   "metadata": {
    "collapsed": false,
    "deletable": true,
    "editable": true
   },
   "outputs": [
    {
     "data": {
      "text/plain": [
       "<seaborn.axisgrid.FacetGrid at 0x115640790>"
      ]
     },
     "execution_count": 107,
     "metadata": {},
     "output_type": "execute_result"
    },
    {
     "data": {
      "image/png": "[encoded data removed]",
      "text/plain": [
       "<matplotlib.figure.Figure at 0x115640090>"
      ]
     },
     "metadata": {},
     "output_type": "display_data"
    }
   ],
   "source": [
    "sns.factorplot(x='Year',y='UnemploymentRate',hue='Race',data=dftotal,aspect=3)"
   ]
  },
  {
   "cell_type": "code",
   "execution_count": 108,
   "metadata": {
    "collapsed": false,
    "deletable": true,
    "editable": true
   },
   "outputs": [
    {
     "data": {
      "text/plain": [
       "<seaborn.axisgrid.FacetGrid at 0x115ab46d0>"
      ]
     },
     "execution_count": 108,
     "metadata": {},
     "output_type": "execute_result"
    },
    {
     "data": {
      "image/png": "[encoded data removed]",
      "text/plain": [
       "<matplotlib.figure.Figure at 0x115ab4710>"
      ]
     },
     "metadata": {},
     "output_type": "display_data"
    },
    {
     "data": {
      "image/png": "[encoded data removed]",
      "text/plain": [
       "<matplotlib.figure.Figure at 0x115ab4650>"
      ]
     },
     "metadata": {},
     "output_type": "display_data"
    }
   ],
   "source": [
    "sns.factorplot(x='Year',y='Gini_Index',data=Gini,aspect=3)\n",
    "sns.factorplot(x='Year',y='UnemploymentRate',hue='Race',data=dftotal,aspect=3)"
   ]
  },
  {
   "cell_type": "markdown",
   "metadata": {
    "deletable": true,
    "editable": true
   },
   "source": [
    "There is a huge gap in the unemployment rates between people belonging to different races. This variation might contribute to the general gini index.\n",
    "Also, if we compare this graph with the gini graph plotted over years, we can see that after 2011, gini index has started reducing to some extent. And in this chart, the unemployment rate overall has also started decreasing post 2011. So, we can explore further to see if there is any correlation between unemployment rate and gini index"
   ]
  },
  {
   "cell_type": "code",
   "execution_count": 109,
   "metadata": {
    "collapsed": false,
    "deletable": true,
    "editable": true
   },
   "outputs": [
    {
     "data": {
      "text/html": [
       "<div>\n",
       "<style scoped>\n",
       "    .dataframe tbody tr th:only-of-type {\n",
       "        vertical-align: middle;\n",
       "    }\n",
       "\n",
       "    .dataframe tbody tr th {\n",
       "        vertical-align: top;\n",
       "    }\n",
       "\n",
       "    .dataframe thead th {\n",
       "        text-align: right;\n",
       "    }\n",
       "</style>\n",
       "<table border=\"1\" class=\"dataframe\">\n",
       "  <thead>\n",
       "    <tr style=\"text-align: right;\">\n",
       "      <th></th>\n",
       "      <th>Total</th>\n",
       "      <th>UnemploymentRate</th>\n",
       "      <th>Date</th>\n",
       "      <th>Year</th>\n",
       "      <th>Race</th>\n",
       "    </tr>\n",
       "  </thead>\n",
       "  <tbody>\n",
       "    <tr>\n",
       "      <th>57</th>\n",
       "      <td>5.8</td>\n",
       "      <td>5.2</td>\n",
       "      <td>2003-01-01</td>\n",
       "      <td>2003</td>\n",
       "      <td>White</td>\n",
       "    </tr>\n",
       "    <tr>\n",
       "      <th>58</th>\n",
       "      <td>5.9</td>\n",
       "      <td>5.1</td>\n",
       "      <td>2003-02-01</td>\n",
       "      <td>2003</td>\n",
       "      <td>White</td>\n",
       "    </tr>\n",
       "    <tr>\n",
       "      <th>59</th>\n",
       "      <td>5.9</td>\n",
       "      <td>5.1</td>\n",
       "      <td>2003-03-01</td>\n",
       "      <td>2003</td>\n",
       "      <td>White</td>\n",
       "    </tr>\n",
       "    <tr>\n",
       "      <th>60</th>\n",
       "      <td>6.0</td>\n",
       "      <td>5.3</td>\n",
       "      <td>2003-04-01</td>\n",
       "      <td>2003</td>\n",
       "      <td>White</td>\n",
       "    </tr>\n",
       "    <tr>\n",
       "      <th>61</th>\n",
       "      <td>6.1</td>\n",
       "      <td>5.4</td>\n",
       "      <td>2003-05-01</td>\n",
       "      <td>2003</td>\n",
       "      <td>White</td>\n",
       "    </tr>\n",
       "  </tbody>\n",
       "</table>\n",
       "</div>"
      ],
      "text/plain": [
       "    Total  UnemploymentRate       Date  Year   Race\n",
       "57    5.8               5.2 2003-01-01  2003  White\n",
       "58    5.9               5.1 2003-02-01  2003  White\n",
       "59    5.9               5.1 2003-03-01  2003  White\n",
       "60    6.0               5.3 2003-04-01  2003  White\n",
       "61    6.1               5.4 2003-05-01  2003  White"
      ]
     },
     "execution_count": 109,
     "metadata": {},
     "output_type": "execute_result"
    }
   ],
   "source": [
    "dftotal.head()"
   ]
  },
  {
   "cell_type": "code",
   "execution_count": 110,
   "metadata": {
    "collapsed": true,
    "deletable": true,
    "editable": true
   },
   "outputs": [],
   "source": [
    "Unemp_Annual = dftotal.groupby('Year')['Total'].mean()"
   ]
  },
  {
   "cell_type": "code",
   "execution_count": 111,
   "metadata": {
    "collapsed": true,
    "deletable": true,
    "editable": true
   },
   "outputs": [],
   "source": [
    "Unemp_Annual1=Unemp_Annual.to_frame()"
   ]
  },
  {
   "cell_type": "code",
   "execution_count": 112,
   "metadata": {
    "collapsed": false,
    "deletable": true,
    "editable": true
   },
   "outputs": [
    {
     "data": {
      "text/html": [
       "<div>\n",
       "<style scoped>\n",
       "    .dataframe tbody tr th:only-of-type {\n",
       "        vertical-align: middle;\n",
       "    }\n",
       "\n",
       "    .dataframe tbody tr th {\n",
       "        vertical-align: top;\n",
       "    }\n",
       "\n",
       "    .dataframe thead th {\n",
       "        text-align: right;\n",
       "    }\n",
       "</style>\n",
       "<table border=\"1\" class=\"dataframe\">\n",
       "  <thead>\n",
       "    <tr style=\"text-align: right;\">\n",
       "      <th></th>\n",
       "      <th>Total</th>\n",
       "    </tr>\n",
       "    <tr>\n",
       "      <th>Year</th>\n",
       "      <th></th>\n",
       "    </tr>\n",
       "  </thead>\n",
       "  <tbody>\n",
       "    <tr>\n",
       "      <th>2003</th>\n",
       "      <td>5.991667</td>\n",
       "    </tr>\n",
       "    <tr>\n",
       "      <th>2004</th>\n",
       "      <td>5.541667</td>\n",
       "    </tr>\n",
       "    <tr>\n",
       "      <th>2005</th>\n",
       "      <td>5.083333</td>\n",
       "    </tr>\n",
       "    <tr>\n",
       "      <th>2006</th>\n",
       "      <td>4.608333</td>\n",
       "    </tr>\n",
       "    <tr>\n",
       "      <th>2007</th>\n",
       "      <td>4.616667</td>\n",
       "    </tr>\n",
       "  </tbody>\n",
       "</table>\n",
       "</div>"
      ],
      "text/plain": [
       "         Total\n",
       "Year          \n",
       "2003  5.991667\n",
       "2004  5.541667\n",
       "2005  5.083333\n",
       "2006  4.608333\n",
       "2007  4.616667"
      ]
     },
     "execution_count": 112,
     "metadata": {},
     "output_type": "execute_result"
    }
   ],
   "source": [
    "Unemp_Annual1.head()"
   ]
  },
  {
   "cell_type": "code",
   "execution_count": 113,
   "metadata": {
    "collapsed": true,
    "deletable": true,
    "editable": true
   },
   "outputs": [],
   "source": [
    "Unemp_Annual1.reset_index(level=0,inplace=True)"
   ]
  },
  {
   "cell_type": "code",
   "execution_count": 114,
   "metadata": {
    "collapsed": true,
    "deletable": true,
    "editable": true
   },
   "outputs": [],
   "source": [
    "Unemp_Annual1.rename(columns={'Total':'UnemploymentRate'},inplace=True)"
   ]
  },
  {
   "cell_type": "code",
   "execution_count": 115,
   "metadata": {
    "collapsed": true,
    "deletable": true,
    "editable": true
   },
   "outputs": [],
   "source": [
    "MergedData=Unemp_Annual1.merge(Gini)"
   ]
  },
  {
   "cell_type": "code",
   "execution_count": 116,
   "metadata": {
    "collapsed": false,
    "deletable": true,
    "editable": true
   },
   "outputs": [
    {
     "data": {
      "text/html": [
       "<div>\n",
       "<style scoped>\n",
       "    .dataframe tbody tr th:only-of-type {\n",
       "        vertical-align: middle;\n",
       "    }\n",
       "\n",
       "    .dataframe tbody tr th {\n",
       "        vertical-align: top;\n",
       "    }\n",
       "\n",
       "    .dataframe thead th {\n",
       "        text-align: right;\n",
       "    }\n",
       "</style>\n",
       "<table border=\"1\" class=\"dataframe\">\n",
       "  <thead>\n",
       "    <tr style=\"text-align: right;\">\n",
       "      <th></th>\n",
       "      <th>Year</th>\n",
       "      <th>UnemploymentRate</th>\n",
       "      <th>Gini_Index</th>\n",
       "    </tr>\n",
       "  </thead>\n",
       "  <tbody>\n",
       "    <tr>\n",
       "      <th>0</th>\n",
       "      <td>2003</td>\n",
       "      <td>5.991667</td>\n",
       "      <td>0.46</td>\n",
       "    </tr>\n",
       "    <tr>\n",
       "      <th>1</th>\n",
       "      <td>2004</td>\n",
       "      <td>5.541667</td>\n",
       "      <td>0.47</td>\n",
       "    </tr>\n",
       "    <tr>\n",
       "      <th>2</th>\n",
       "      <td>2005</td>\n",
       "      <td>5.083333</td>\n",
       "      <td>0.47</td>\n",
       "    </tr>\n",
       "    <tr>\n",
       "      <th>3</th>\n",
       "      <td>2006</td>\n",
       "      <td>4.608333</td>\n",
       "      <td>0.47</td>\n",
       "    </tr>\n",
       "    <tr>\n",
       "      <th>4</th>\n",
       "      <td>2007</td>\n",
       "      <td>4.616667</td>\n",
       "      <td>0.46</td>\n",
       "    </tr>\n",
       "    <tr>\n",
       "      <th>5</th>\n",
       "      <td>2008</td>\n",
       "      <td>5.800000</td>\n",
       "      <td>0.47</td>\n",
       "    </tr>\n",
       "    <tr>\n",
       "      <th>6</th>\n",
       "      <td>2009</td>\n",
       "      <td>9.283333</td>\n",
       "      <td>0.47</td>\n",
       "    </tr>\n",
       "    <tr>\n",
       "      <th>7</th>\n",
       "      <td>2010</td>\n",
       "      <td>9.608333</td>\n",
       "      <td>0.47</td>\n",
       "    </tr>\n",
       "    <tr>\n",
       "      <th>8</th>\n",
       "      <td>2011</td>\n",
       "      <td>8.933333</td>\n",
       "      <td>0.48</td>\n",
       "    </tr>\n",
       "    <tr>\n",
       "      <th>9</th>\n",
       "      <td>2012</td>\n",
       "      <td>8.075000</td>\n",
       "      <td>0.48</td>\n",
       "    </tr>\n",
       "    <tr>\n",
       "      <th>10</th>\n",
       "      <td>2013</td>\n",
       "      <td>7.358333</td>\n",
       "      <td>0.48</td>\n",
       "    </tr>\n",
       "    <tr>\n",
       "      <th>11</th>\n",
       "      <td>2014</td>\n",
       "      <td>6.175000</td>\n",
       "      <td>0.48</td>\n",
       "    </tr>\n",
       "    <tr>\n",
       "      <th>12</th>\n",
       "      <td>2015</td>\n",
       "      <td>5.266667</td>\n",
       "      <td>0.48</td>\n",
       "    </tr>\n",
       "    <tr>\n",
       "      <th>13</th>\n",
       "      <td>2016</td>\n",
       "      <td>4.866667</td>\n",
       "      <td>0.48</td>\n",
       "    </tr>\n",
       "  </tbody>\n",
       "</table>\n",
       "</div>"
      ],
      "text/plain": [
       "    Year  UnemploymentRate  Gini_Index\n",
       "0   2003          5.991667        0.46\n",
       "1   2004          5.541667        0.47\n",
       "2   2005          5.083333        0.47\n",
       "3   2006          4.608333        0.47\n",
       "4   2007          4.616667        0.46\n",
       "5   2008          5.800000        0.47\n",
       "6   2009          9.283333        0.47\n",
       "7   2010          9.608333        0.47\n",
       "8   2011          8.933333        0.48\n",
       "9   2012          8.075000        0.48\n",
       "10  2013          7.358333        0.48\n",
       "11  2014          6.175000        0.48\n",
       "12  2015          5.266667        0.48\n",
       "13  2016          4.866667        0.48"
      ]
     },
     "execution_count": 116,
     "metadata": {},
     "output_type": "execute_result"
    }
   ],
   "source": [
    "MergedData"
   ]
  },
  {
   "cell_type": "code",
   "execution_count": 117,
   "metadata": {
    "collapsed": false,
    "deletable": true,
    "editable": true
   },
   "outputs": [
    {
     "data": {
      "text/plain": [
       "<matplotlib.axes._subplots.AxesSubplot at 0x115f99810>"
      ]
     },
     "execution_count": 117,
     "metadata": {},
     "output_type": "execute_result"
    },
    {
     "data": {
      "image/png": "[encoded data removed]",
      "text/plain": [
       "<matplotlib.figure.Figure at 0x116478d50>"
      ]
     },
     "metadata": {},
     "output_type": "display_data"
    }
   ],
   "source": [
    "sns.regplot(x='UnemploymentRate',y='Gini_Index',data=MergedData)"
   ]
  },
  {
   "cell_type": "markdown",
   "metadata": {
    "deletable": true,
    "editable": true
   },
   "source": [
    "### 4. Correlation of Gini and tax"
   ]
  },
  {
   "cell_type": "markdown",
   "metadata": {},
   "source": [
    "Validity: How tax affects gini and income inequality - https://www.brookings.edu/articles/which-states-tax-laws-widen-inequality/"
   ]
  },
  {
   "cell_type": "code",
   "execution_count": 136,
   "metadata": {
    "collapsed": true,
    "deletable": true,
    "editable": true
   },
   "outputs": [],
   "source": [
    "df_tax = pd.read_csv('State_Taxes_and_Fees_Collected__Beginning_Fiscal_Year_Ending_March_31__1995.csv')"
   ]
  },
  {
   "cell_type": "markdown",
   "metadata": {
    "deletable": true,
    "editable": true
   },
   "source": [
    "The above data shows the tax information per year for every category. This data is used for analysis further.\n",
    "The attributes which we choose for our analysis are Fiscal Year Ended, Amount Collected and Tax Category"
   ]
  },
  {
   "cell_type": "code",
   "execution_count": 121,
   "metadata": {
    "collapsed": false,
    "deletable": true,
    "editable": true
   },
   "outputs": [
    {
     "data": {
      "text/html": [
       "<div>\n",
       "<style scoped>\n",
       "    .dataframe tbody tr th:only-of-type {\n",
       "        vertical-align: middle;\n",
       "    }\n",
       "\n",
       "    .dataframe tbody tr th {\n",
       "        vertical-align: top;\n",
       "    }\n",
       "\n",
       "    .dataframe thead th {\n",
       "        text-align: right;\n",
       "    }\n",
       "</style>\n",
       "<table border=\"1\" class=\"dataframe\">\n",
       "  <thead>\n",
       "    <tr style=\"text-align: right;\">\n",
       "      <th></th>\n",
       "      <th>Fiscal Year Ended</th>\n",
       "      <th>Tax Category</th>\n",
       "      <th>Tax or Fee</th>\n",
       "      <th>Amount Collected</th>\n",
       "      <th>Tax or Fee Sort Order</th>\n",
       "    </tr>\n",
       "  </thead>\n",
       "  <tbody>\n",
       "    <tr>\n",
       "      <th>0</th>\n",
       "      <td>2015</td>\n",
       "      <td>Personal Income</td>\n",
       "      <td>Personal Income Tax</td>\n",
       "      <td>$43709833323</td>\n",
       "      <td>1</td>\n",
       "    </tr>\n",
       "    <tr>\n",
       "      <th>1</th>\n",
       "      <td>2015</td>\n",
       "      <td>Corporation and Business</td>\n",
       "      <td>Business Corporations Article 9-A</td>\n",
       "      <td>$2969705402</td>\n",
       "      <td>2</td>\n",
       "    </tr>\n",
       "    <tr>\n",
       "      <th>2</th>\n",
       "      <td>2015</td>\n",
       "      <td>Corporation and Business</td>\n",
       "      <td>Foreign Corporation Licenses, Article 9, Secti...</td>\n",
       "      <td>$26511684</td>\n",
       "      <td>3</td>\n",
       "    </tr>\n",
       "    <tr>\n",
       "      <th>3</th>\n",
       "      <td>2015</td>\n",
       "      <td>Corporation and Business</td>\n",
       "      <td>Transportation, Transmission, Article 9, Secti...</td>\n",
       "      <td>$11037395</td>\n",
       "      <td>4</td>\n",
       "    </tr>\n",
       "    <tr>\n",
       "      <th>4</th>\n",
       "      <td>2015</td>\n",
       "      <td>Corporation and Business</td>\n",
       "      <td>Transportation, Transmission, Article 9, Secti...</td>\n",
       "      <td>$36521507</td>\n",
       "      <td>5</td>\n",
       "    </tr>\n",
       "  </tbody>\n",
       "</table>\n",
       "</div>"
      ],
      "text/plain": [
       "   Fiscal Year Ended              Tax Category  \\\n",
       "0               2015           Personal Income   \n",
       "1               2015  Corporation and Business   \n",
       "2               2015  Corporation and Business   \n",
       "3               2015  Corporation and Business   \n",
       "4               2015  Corporation and Business   \n",
       "\n",
       "                                          Tax or Fee Amount Collected  \\\n",
       "0                                Personal Income Tax     $43709833323   \n",
       "1                  Business Corporations Article 9-A      $2969705402   \n",
       "2  Foreign Corporation Licenses, Article 9, Secti...        $26511684   \n",
       "3  Transportation, Transmission, Article 9, Secti...        $11037395   \n",
       "4  Transportation, Transmission, Article 9, Secti...        $36521507   \n",
       "\n",
       "   Tax or Fee Sort Order  \n",
       "0                      1  \n",
       "1                      2  \n",
       "2                      3  \n",
       "3                      4  \n",
       "4                      5  "
      ]
     },
     "execution_count": 121,
     "metadata": {},
     "output_type": "execute_result"
    }
   ],
   "source": [
    "df_tax.head()"
   ]
  },
  {
   "cell_type": "markdown",
   "metadata": {
    "deletable": true,
    "editable": true
   },
   "source": [
    "Data Cleaning"
   ]
  },
  {
   "cell_type": "code",
   "execution_count": 122,
   "metadata": {
    "collapsed": true,
    "deletable": true,
    "editable": true
   },
   "outputs": [],
   "source": [
    "df_tax.columns = df_tax.columns.str.replace('\\s+', '_')"
   ]
  },
  {
   "cell_type": "code",
   "execution_count": 123,
   "metadata": {
    "collapsed": true,
    "deletable": true,
    "editable": true
   },
   "outputs": [],
   "source": [
    "df_tax = df_tax[(df_tax['Tax_or_Fee'] =='Total State Taxes and Fees Collected by the Department of Taxation and Finance')|(df_tax['Tax_or_Fee']=='Personal Income Tax')]"
   ]
  },
  {
   "cell_type": "code",
   "execution_count": 124,
   "metadata": {
    "collapsed": false,
    "deletable": true,
    "editable": true
   },
   "outputs": [
    {
     "data": {
      "text/html": [
       "<div>\n",
       "<style scoped>\n",
       "    .dataframe tbody tr th:only-of-type {\n",
       "        vertical-align: middle;\n",
       "    }\n",
       "\n",
       "    .dataframe tbody tr th {\n",
       "        vertical-align: top;\n",
       "    }\n",
       "\n",
       "    .dataframe thead th {\n",
       "        text-align: right;\n",
       "    }\n",
       "</style>\n",
       "<table border=\"1\" class=\"dataframe\">\n",
       "  <thead>\n",
       "    <tr style=\"text-align: right;\">\n",
       "      <th></th>\n",
       "      <th>Fiscal_Year_Ended</th>\n",
       "      <th>Tax_Category</th>\n",
       "      <th>Tax_or_Fee</th>\n",
       "      <th>Amount_Collected</th>\n",
       "      <th>Tax_or_Fee_Sort_Order</th>\n",
       "    </tr>\n",
       "  </thead>\n",
       "  <tbody>\n",
       "    <tr>\n",
       "      <th>1100</th>\n",
       "      <td>1995</td>\n",
       "      <td>Personal Income</td>\n",
       "      <td>Personal Income Tax</td>\n",
       "      <td>$17589489166</td>\n",
       "      <td>1</td>\n",
       "    </tr>\n",
       "    <tr>\n",
       "      <th>1045</th>\n",
       "      <td>1996</td>\n",
       "      <td>Personal Income</td>\n",
       "      <td>Personal Income Tax</td>\n",
       "      <td>$16998212766</td>\n",
       "      <td>1</td>\n",
       "    </tr>\n",
       "    <tr>\n",
       "      <th>991</th>\n",
       "      <td>1997</td>\n",
       "      <td>Personal Income</td>\n",
       "      <td>Personal Income Tax</td>\n",
       "      <td>$16370887332</td>\n",
       "      <td>1</td>\n",
       "    </tr>\n",
       "    <tr>\n",
       "      <th>935</th>\n",
       "      <td>1998</td>\n",
       "      <td>Personal Income</td>\n",
       "      <td>Personal Income Tax</td>\n",
       "      <td>$17758697181</td>\n",
       "      <td>1</td>\n",
       "    </tr>\n",
       "    <tr>\n",
       "      <th>880</th>\n",
       "      <td>1999</td>\n",
       "      <td>Personal Income</td>\n",
       "      <td>Personal Income Tax</td>\n",
       "      <td>$20662375214</td>\n",
       "      <td>1</td>\n",
       "    </tr>\n",
       "  </tbody>\n",
       "</table>\n",
       "</div>"
      ],
      "text/plain": [
       "      Fiscal_Year_Ended     Tax_Category           Tax_or_Fee  \\\n",
       "1100               1995  Personal Income  Personal Income Tax   \n",
       "1045               1996  Personal Income  Personal Income Tax   \n",
       "991                1997  Personal Income  Personal Income Tax   \n",
       "935                1998  Personal Income  Personal Income Tax   \n",
       "880                1999  Personal Income  Personal Income Tax   \n",
       "\n",
       "     Amount_Collected  Tax_or_Fee_Sort_Order  \n",
       "1100     $17589489166                      1  \n",
       "1045     $16998212766                      1  \n",
       "991      $16370887332                      1  \n",
       "935      $17758697181                      1  \n",
       "880      $20662375214                      1  "
      ]
     },
     "execution_count": 124,
     "metadata": {},
     "output_type": "execute_result"
    }
   ],
   "source": [
    "df_tax.sort_values(['Tax_or_Fee','Fiscal_Year_Ended'])[:5]"
   ]
  },
  {
   "cell_type": "markdown",
   "metadata": {
    "deletable": true,
    "editable": true
   },
   "source": [
    "Replacing the dollar sign from the Amount_Collected column"
   ]
  },
  {
   "cell_type": "code",
   "execution_count": 125,
   "metadata": {
    "collapsed": true,
    "deletable": true,
    "editable": true
   },
   "outputs": [],
   "source": [
    "df_tax['Amount_Collected']=pd.to_numeric(df_tax.Amount_Collected.str.replace('$',''))"
   ]
  },
  {
   "cell_type": "code",
   "execution_count": 126,
   "metadata": {
    "collapsed": false,
    "deletable": true,
    "editable": true
   },
   "outputs": [
    {
     "data": {
      "text/html": [
       "<div>\n",
       "<style scoped>\n",
       "    .dataframe tbody tr th:only-of-type {\n",
       "        vertical-align: middle;\n",
       "    }\n",
       "\n",
       "    .dataframe tbody tr th {\n",
       "        vertical-align: top;\n",
       "    }\n",
       "\n",
       "    .dataframe thead th {\n",
       "        text-align: right;\n",
       "    }\n",
       "</style>\n",
       "<table border=\"1\" class=\"dataframe\">\n",
       "  <thead>\n",
       "    <tr style=\"text-align: right;\">\n",
       "      <th></th>\n",
       "      <th>Fiscal_Year_Ended</th>\n",
       "      <th>Tax_Category</th>\n",
       "      <th>Tax_or_Fee</th>\n",
       "      <th>Amount_Collected</th>\n",
       "      <th>Tax_or_Fee_Sort_Order</th>\n",
       "    </tr>\n",
       "  </thead>\n",
       "  <tbody>\n",
       "    <tr>\n",
       "      <th>0</th>\n",
       "      <td>2015</td>\n",
       "      <td>Personal Income</td>\n",
       "      <td>Personal Income Tax</td>\n",
       "      <td>43709833323</td>\n",
       "      <td>1</td>\n",
       "    </tr>\n",
       "    <tr>\n",
       "      <th>54</th>\n",
       "      <td>2015</td>\n",
       "      <td>Total</td>\n",
       "      <td>Total State Taxes and Fees Collected by the De...</td>\n",
       "      <td>68103753958</td>\n",
       "      <td>55</td>\n",
       "    </tr>\n",
       "    <tr>\n",
       "      <th>55</th>\n",
       "      <td>2014</td>\n",
       "      <td>Personal Income</td>\n",
       "      <td>Personal Income Tax</td>\n",
       "      <td>42960774915</td>\n",
       "      <td>1</td>\n",
       "    </tr>\n",
       "    <tr>\n",
       "      <th>109</th>\n",
       "      <td>2014</td>\n",
       "      <td>Total</td>\n",
       "      <td>Total State Taxes and Fees Collected by the De...</td>\n",
       "      <td>66865866363</td>\n",
       "      <td>55</td>\n",
       "    </tr>\n",
       "    <tr>\n",
       "      <th>110</th>\n",
       "      <td>2013</td>\n",
       "      <td>Personal Income</td>\n",
       "      <td>Personal Income Tax</td>\n",
       "      <td>40226714989</td>\n",
       "      <td>1</td>\n",
       "    </tr>\n",
       "  </tbody>\n",
       "</table>\n",
       "</div>"
      ],
      "text/plain": [
       "     Fiscal_Year_Ended     Tax_Category  \\\n",
       "0                 2015  Personal Income   \n",
       "54                2015            Total   \n",
       "55                2014  Personal Income   \n",
       "109               2014            Total   \n",
       "110               2013  Personal Income   \n",
       "\n",
       "                                            Tax_or_Fee  Amount_Collected  \\\n",
       "0                                  Personal Income Tax       43709833323   \n",
       "54   Total State Taxes and Fees Collected by the De...       68103753958   \n",
       "55                                 Personal Income Tax       42960774915   \n",
       "109  Total State Taxes and Fees Collected by the De...       66865866363   \n",
       "110                                Personal Income Tax       40226714989   \n",
       "\n",
       "     Tax_or_Fee_Sort_Order  \n",
       "0                        1  \n",
       "54                      55  \n",
       "55                       1  \n",
       "109                     55  \n",
       "110                      1  "
      ]
     },
     "execution_count": 126,
     "metadata": {},
     "output_type": "execute_result"
    }
   ],
   "source": [
    "df_tax.head()"
   ]
  },
  {
   "cell_type": "code",
   "execution_count": 127,
   "metadata": {
    "collapsed": true,
    "deletable": true,
    "editable": true
   },
   "outputs": [],
   "source": [
    "df_tax['Amount_Collected'] =  (df_tax.Amount_Collected/1000000).round(2)"
   ]
  },
  {
   "cell_type": "markdown",
   "metadata": {
    "deletable": true,
    "editable": true
   },
   "source": [
    "Loading Gini dataset for further analysis."
   ]
  },
  {
   "cell_type": "code",
   "execution_count": 130,
   "metadata": {
    "collapsed": false,
    "deletable": true,
    "editable": true
   },
   "outputs": [],
   "source": [
    "df_gini = pd.read_csv('Gini_cs.csv')"
   ]
  },
  {
   "cell_type": "code",
   "execution_count": 131,
   "metadata": {
    "collapsed": false,
    "deletable": true,
    "editable": true
   },
   "outputs": [
    {
     "data": {
      "text/plain": [
       "Index([u'Unnamed: 0', u'Year', u'Gini_Index'], dtype='object')"
      ]
     },
     "execution_count": 131,
     "metadata": {},
     "output_type": "execute_result"
    }
   ],
   "source": [
    "df_gini.columns"
   ]
  },
  {
   "cell_type": "markdown",
   "metadata": {
    "deletable": true,
    "editable": true
   },
   "source": [
    "#### Merging the tax data with gini data to analyze if there is any correlation between tax amount collected and increasing gini over years"
   ]
  },
  {
   "cell_type": "code",
   "execution_count": 132,
   "metadata": {
    "collapsed": true,
    "deletable": true,
    "editable": true
   },
   "outputs": [],
   "source": [
    "df_GiniTax = df_tax.merge(df_gini, left_on='Fiscal_Year_Ended', right_on='Year')"
   ]
  },
  {
   "cell_type": "code",
   "execution_count": 133,
   "metadata": {
    "collapsed": false,
    "deletable": true,
    "editable": true
   },
   "outputs": [
    {
     "data": {
      "text/html": [
       "<div>\n",
       "<style scoped>\n",
       "    .dataframe tbody tr th:only-of-type {\n",
       "        vertical-align: middle;\n",
       "    }\n",
       "\n",
       "    .dataframe tbody tr th {\n",
       "        vertical-align: top;\n",
       "    }\n",
       "\n",
       "    .dataframe thead th {\n",
       "        text-align: right;\n",
       "    }\n",
       "</style>\n",
       "<table border=\"1\" class=\"dataframe\">\n",
       "  <thead>\n",
       "    <tr style=\"text-align: right;\">\n",
       "      <th></th>\n",
       "      <th>Fiscal_Year_Ended</th>\n",
       "      <th>Tax_Category</th>\n",
       "      <th>Tax_or_Fee</th>\n",
       "      <th>Amount_Collected</th>\n",
       "      <th>Tax_or_Fee_Sort_Order</th>\n",
       "      <th>Unnamed: 0</th>\n",
       "      <th>Year</th>\n",
       "      <th>Gini_Index</th>\n",
       "    </tr>\n",
       "  </thead>\n",
       "  <tbody>\n",
       "    <tr>\n",
       "      <th>0</th>\n",
       "      <td>2015</td>\n",
       "      <td>Personal Income</td>\n",
       "      <td>Personal Income Tax</td>\n",
       "      <td>43709.83</td>\n",
       "      <td>1</td>\n",
       "      <td>28</td>\n",
       "      <td>2015</td>\n",
       "      <td>0.48</td>\n",
       "    </tr>\n",
       "    <tr>\n",
       "      <th>1</th>\n",
       "      <td>2015</td>\n",
       "      <td>Total</td>\n",
       "      <td>Total State Taxes and Fees Collected by the De...</td>\n",
       "      <td>68103.75</td>\n",
       "      <td>55</td>\n",
       "      <td>28</td>\n",
       "      <td>2015</td>\n",
       "      <td>0.48</td>\n",
       "    </tr>\n",
       "    <tr>\n",
       "      <th>2</th>\n",
       "      <td>2014</td>\n",
       "      <td>Personal Income</td>\n",
       "      <td>Personal Income Tax</td>\n",
       "      <td>42960.77</td>\n",
       "      <td>1</td>\n",
       "      <td>27</td>\n",
       "      <td>2014</td>\n",
       "      <td>0.48</td>\n",
       "    </tr>\n",
       "    <tr>\n",
       "      <th>3</th>\n",
       "      <td>2014</td>\n",
       "      <td>Total</td>\n",
       "      <td>Total State Taxes and Fees Collected by the De...</td>\n",
       "      <td>66865.87</td>\n",
       "      <td>55</td>\n",
       "      <td>27</td>\n",
       "      <td>2014</td>\n",
       "      <td>0.48</td>\n",
       "    </tr>\n",
       "    <tr>\n",
       "      <th>4</th>\n",
       "      <td>2013</td>\n",
       "      <td>Personal Income</td>\n",
       "      <td>Personal Income Tax</td>\n",
       "      <td>40226.71</td>\n",
       "      <td>1</td>\n",
       "      <td>26</td>\n",
       "      <td>2013</td>\n",
       "      <td>0.48</td>\n",
       "    </tr>\n",
       "  </tbody>\n",
       "</table>\n",
       "</div>"
      ],
      "text/plain": [
       "   Fiscal_Year_Ended     Tax_Category  \\\n",
       "0               2015  Personal Income   \n",
       "1               2015            Total   \n",
       "2               2014  Personal Income   \n",
       "3               2014            Total   \n",
       "4               2013  Personal Income   \n",
       "\n",
       "                                          Tax_or_Fee  Amount_Collected  \\\n",
       "0                                Personal Income Tax          43709.83   \n",
       "1  Total State Taxes and Fees Collected by the De...          68103.75   \n",
       "2                                Personal Income Tax          42960.77   \n",
       "3  Total State Taxes and Fees Collected by the De...          66865.87   \n",
       "4                                Personal Income Tax          40226.71   \n",
       "\n",
       "   Tax_or_Fee_Sort_Order  Unnamed: 0  Year  Gini_Index  \n",
       "0                      1          28  2015        0.48  \n",
       "1                     55          28  2015        0.48  \n",
       "2                      1          27  2014        0.48  \n",
       "3                     55          27  2014        0.48  \n",
       "4                      1          26  2013        0.48  "
      ]
     },
     "execution_count": 133,
     "metadata": {},
     "output_type": "execute_result"
    }
   ],
   "source": [
    "df_GiniTax.head()"
   ]
  },
  {
   "cell_type": "code",
   "execution_count": 134,
   "metadata": {
    "collapsed": false,
    "deletable": true,
    "editable": true
   },
   "outputs": [
    {
     "data": {
      "text/plain": [
       "<seaborn.axisgrid.FacetGrid at 0x115b1d250>"
      ]
     },
     "execution_count": 134,
     "metadata": {},
     "output_type": "execute_result"
    },
    {
     "data": {
      "image/png": "[encoded data removed]",
      "text/plain": [
       "<matplotlib.figure.Figure at 0x11648f550>"
      ]
     },
     "metadata": {},
     "output_type": "display_data"
    }
   ],
   "source": [
    "sns.factorplot(x='Gini_Index', y='Amount_Collected',data=df_GiniTax, hue='Tax_or_Fee',aspect=3)"
   ]
  },
  {
   "cell_type": "markdown",
   "metadata": {
    "deletable": true,
    "editable": true
   },
   "source": [
    "#### Data Visualization Insight 2: There seems to  be an obvious correlation between Gini_index and Amount_Collected. We can see that gini is high tax amount collected is also high. This is true for personal income tax also and total state taxes and fees collected. To validate our finding we plotted the following."
   ]
  },
  {
   "cell_type": "code",
   "execution_count": 135,
   "metadata": {
    "collapsed": false,
    "deletable": true,
    "editable": true
   },
   "outputs": [
    {
     "data": {
      "text/plain": [
       "<matplotlib.axes._subplots.AxesSubplot at 0x116050b10>"
      ]
     },
     "execution_count": 135,
     "metadata": {},
     "output_type": "execute_result"
    },
    {
     "data": {
      "image/png": "[encoded data removed]",
      "text/plain": [
       "<matplotlib.figure.Figure at 0x115280310>"
      ]
     },
     "metadata": {},
     "output_type": "display_data"
    }
   ],
   "source": [
    "sns.regplot(x='Gini_Index', y='Amount_Collected', data=df_GiniTax)"
   ]
  },
  {
   "cell_type": "markdown",
   "metadata": {
    "deletable": true,
    "editable": true
   },
   "source": [
    "#### As we can say above the correlation seen above can be validated with the above regression plot as we can see a straight correlation between Gini_index and Amount Collected."
   ]
  },
  {
   "cell_type": "code",
   "execution_count": null,
   "metadata": {
    "collapsed": true,
    "deletable": true,
    "editable": true
   },
   "outputs": [],
   "source": []
  }
 ],
 "metadata": {
  "kernelspec": {
   "display_name": "Python 2",
   "language": "python",
   "name": "python2"
  },
  "language_info": {
   "codemirror_mode": {
    "name": "ipython",
    "version": 2
   },
   "file_extension": ".py",
   "mimetype": "text/x-python",
   "name": "python",
   "nbconvert_exporter": "python",
   "pygments_lexer": "ipython2",
   "version": "2.7.13"
  }
 },
 "nbformat": 4,
 "nbformat_minor": 0
}
